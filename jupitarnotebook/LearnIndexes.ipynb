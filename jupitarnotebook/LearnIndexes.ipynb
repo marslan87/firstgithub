{
 "cells": [
  {
   "cell_type": "code",
   "execution_count": 3,
   "id": "1d437fb4-96e4-4491-a2f7-4dc65f06b585",
   "metadata": {},
   "outputs": [
    {
     "data": {
      "text/plain": [
       "'arsalan dilawar'"
      ]
     },
     "execution_count": 3,
     "metadata": {},
     "output_type": "execute_result"
    }
   ],
   "source": [
    "# make a index\n",
    "a = \"arsalan dilawar\"\n",
    "a"
   ]
  },
  {
   "cell_type": "code",
   "execution_count": 4,
   "id": "9337f1e3-5beb-4b72-a847-ccf602fd14b0",
   "metadata": {},
   "outputs": [
    {
     "data": {
      "text/plain": [
       "15"
      ]
     },
     "execution_count": 4,
     "metadata": {},
     "output_type": "execute_result"
    }
   ],
   "source": [
    "len(a)"
   ]
  },
  {
   "cell_type": "code",
   "execution_count": 5,
   "id": "6a5fa382-562a-4dd3-9e3d-bfeeee2cc68b",
   "metadata": {},
   "outputs": [
    {
     "data": {
      "text/plain": [
       "'l'"
      ]
     },
     "execution_count": 5,
     "metadata": {},
     "output_type": "execute_result"
    }
   ],
   "source": [
    "a[10]"
   ]
  },
  {
   "cell_type": "code",
   "execution_count": 6,
   "id": "e7a8d284-3dfb-426f-8093-33e4d89ee993",
   "metadata": {},
   "outputs": [
    {
     "data": {
      "text/plain": [
       "'arsalan di'"
      ]
     },
     "execution_count": 6,
     "metadata": {},
     "output_type": "execute_result"
    }
   ],
   "source": [
    "a[0:10]"
   ]
  },
  {
   "cell_type": "code",
   "execution_count": null,
   "id": "7b72948a-4f0b-4e80-96f0-fa7a8e8e6f55",
   "metadata": {},
   "outputs": [
    {
     "data": {
      "text/plain": [
       "'dilawar'"
      ]
     },
     "execution_count": 10,
     "metadata": {},
     "output_type": "execute_result"
    }
   ],
   "source": [
    "a[8:15]"
   ]
  },
  {
   "cell_type": "code",
   "execution_count": 11,
   "id": "4bd5dafd-2e7f-4cbc-96f9-ec88fea38559",
   "metadata": {},
   "outputs": [
    {
     "data": {
      "text/plain": [
       "'i'"
      ]
     },
     "execution_count": 11,
     "metadata": {},
     "output_type": "execute_result"
    }
   ],
   "source": [
    "a[-6]"
   ]
  },
  {
   "cell_type": "code",
   "execution_count": 12,
   "id": "9b121eee-822e-4f4a-831d-f1284810db74",
   "metadata": {},
   "outputs": [
    {
     "data": {
      "text/plain": [
       "'ilawa'"
      ]
     },
     "execution_count": 12,
     "metadata": {},
     "output_type": "execute_result"
    }
   ],
   "source": [
    "a[-6:-1]"
   ]
  },
  {
   "cell_type": "markdown",
   "id": "e6027128-c7bb-4261-b996-ca6d33994707",
   "metadata": {},
   "source": [
    "## String Method"
   ]
  },
  {
   "cell_type": "code",
   "execution_count": 13,
   "id": "19da0d7a-35f0-4f0a-aeb9-2ea47e2e08b5",
   "metadata": {},
   "outputs": [],
   "source": [
    "food = \"briyani\""
   ]
  },
  {
   "cell_type": "code",
   "execution_count": 14,
   "id": "f2847c08-8835-4960-b1da-f19ed9caeb91",
   "metadata": {},
   "outputs": [
    {
     "data": {
      "text/plain": [
       "'briyani'"
      ]
     },
     "execution_count": 14,
     "metadata": {},
     "output_type": "execute_result"
    }
   ],
   "source": [
    "food"
   ]
  },
  {
   "cell_type": "code",
   "execution_count": 15,
   "id": "b762008b-80a1-4940-8141-590c07e6941b",
   "metadata": {},
   "outputs": [
    {
     "data": {
      "text/plain": [
       "7"
      ]
     },
     "execution_count": 15,
     "metadata": {},
     "output_type": "execute_result"
    }
   ],
   "source": [
    "len(food)"
   ]
  },
  {
   "cell_type": "code",
   "execution_count": 17,
   "id": "9b6912e2-4c8f-404f-9170-1f147686079a",
   "metadata": {},
   "outputs": [
    {
     "data": {
      "text/plain": [
       "'BRIYANI'"
      ]
     },
     "execution_count": 17,
     "metadata": {},
     "output_type": "execute_result"
    }
   ],
   "source": [
    "food.upper()"
   ]
  },
  {
   "cell_type": "code",
   "execution_count": 19,
   "id": "3e403449-0ccf-42b7-85a7-d593c0d8ea27",
   "metadata": {},
   "outputs": [
    {
     "data": {
      "text/plain": [
       "'Briyani'"
      ]
     },
     "execution_count": 19,
     "metadata": {},
     "output_type": "execute_result"
    }
   ],
   "source": [
    "food.capitalize()"
   ]
  },
  {
   "cell_type": "code",
   "execution_count": 20,
   "id": "f5c1260c-d27e-42e0-bfad-587fdac14f7f",
   "metadata": {},
   "outputs": [
    {
     "data": {
      "text/plain": [
       "'shriyani'"
      ]
     },
     "execution_count": 20,
     "metadata": {},
     "output_type": "execute_result"
    }
   ],
   "source": [
    "food.replace(\"b\",\"sh\")"
   ]
  },
  {
   "cell_type": "code",
   "execution_count": 22,
   "id": "949b0270-161f-4b14-a238-4d5ed9419a55",
   "metadata": {},
   "outputs": [],
   "source": [
    "name = \"arsalan dilawar nathani uppleta wala\""
   ]
  },
  {
   "cell_type": "code",
   "execution_count": 23,
   "id": "82fc8d32-818e-4072-b096-9f740242f47c",
   "metadata": {},
   "outputs": [
    {
     "data": {
      "text/plain": [
       "'arsalan dilawar nathani uppleta wala'"
      ]
     },
     "execution_count": 23,
     "metadata": {},
     "output_type": "execute_result"
    }
   ],
   "source": [
    "name"
   ]
  },
  {
   "cell_type": "code",
   "execution_count": 24,
   "id": "381549e7-4454-4681-9f90-9212a04ebc4a",
   "metadata": {},
   "outputs": [
    {
     "data": {
      "text/plain": [
       "10"
      ]
     },
     "execution_count": 24,
     "metadata": {},
     "output_type": "execute_result"
    }
   ],
   "source": [
    "name.count(\"a\")"
   ]
  },
  {
   "cell_type": "markdown",
   "id": "7d9c1089-a348-41ec-97a5-5e41bab4d29f",
   "metadata": {
    "tags": []
   },
   "source": [
    "# finding a index number in string"
   ]
  },
  {
   "cell_type": "code",
   "execution_count": 25,
   "id": "bcd7f9bc-6ec0-4e1c-a880-e82f63630380",
   "metadata": {},
   "outputs": [
    {
     "data": {
      "text/plain": [
       "8"
      ]
     },
     "execution_count": 25,
     "metadata": {},
     "output_type": "execute_result"
    }
   ],
   "source": [
    "name.find(\"d\")"
   ]
  },
  {
   "cell_type": "markdown",
   "id": "9104566d-d48b-4eb9-9401-c2e8e99f4bd2",
   "metadata": {},
   "source": [
    "### how to split a string "
   ]
  },
  {
   "cell_type": "code",
   "execution_count": 27,
   "id": "c37819d8-9bb4-4eb8-ab23-d65862495f35",
   "metadata": {},
   "outputs": [
    {
     "data": {
      "text/plain": [
       "'bryani, samosa, chicken, cold drink'"
      ]
     },
     "execution_count": 27,
     "metadata": {},
     "output_type": "execute_result"
    }
   ],
   "source": [
    "food = \"bryani, samosa, chicken, cold drink\"\n",
    "food"
   ]
  },
  {
   "cell_type": "code",
   "execution_count": 28,
   "id": "44d33f06-7bd8-430a-a9ce-cd58f80ad6b9",
   "metadata": {},
   "outputs": [
    {
     "data": {
      "text/plain": [
       "['bryani', ' samosa', ' chicken', ' cold drink']"
      ]
     },
     "execution_count": 28,
     "metadata": {},
     "output_type": "execute_result"
    }
   ],
   "source": [
    "food.split(\",\")"
   ]
  }
 ],
 "metadata": {
  "kernelspec": {
   "display_name": "Python 3 (ipykernel)",
   "language": "python",
   "name": "python3"
  },
  "language_info": {
   "codemirror_mode": {
    "name": "ipython",
    "version": 3
   },
   "file_extension": ".py",
   "mimetype": "text/x-python",
   "name": "python",
   "nbconvert_exporter": "python",
   "pygments_lexer": "ipython3",
   "version": "3.9.12"
  }
 },
 "nbformat": 4,
 "nbformat_minor": 5
}
