{
 "cells": [
  {
   "cell_type": "markdown",
   "id": "b23ea738-d9a7-4b5b-809c-7c0a19f317f0",
   "metadata": {},
   "source": [
    "### my first pyhton code in jupitar\n",
    "## pyhon codes coping from vs"
   ]
  },
  {
   "cell_type": "code",
   "execution_count": 3,
   "id": "221da94b-fbaf-449f-ab4c-f9690b29da2b",
   "metadata": {},
   "outputs": [
    {
     "data": {
      "text/plain": [
       "4"
      ]
     },
     "execution_count": 3,
     "metadata": {},
     "output_type": "execute_result"
    }
   ],
   "source": [
    "a= 1+3\n",
    "a"
   ]
  },
  {
   "cell_type": "markdown",
   "id": "fce7ceb5-7f0c-4852-9818-cc83144c9474",
   "metadata": {},
   "source": [
    "**code2# Strings**"
   ]
  },
  {
   "cell_type": "code",
   "execution_count": 5,
   "id": "a53ec2f3-2413-4833-9c43-50780c0bc67f",
   "metadata": {},
   "outputs": [
    {
     "name": "stdin",
     "output_type": "stream",
     "text": [
      "what is ayesha age?  20\n"
     ]
    },
    {
     "name": "stdout",
     "output_type": "stream",
     "text": [
      "False\n"
     ]
    }
   ],
   "source": [
    "schollage= 6\n",
    "ayesha_Age=input(\"what is ayesha age? \")\n",
    "ayesha_Age=int(ayesha_Age)\n",
    "print(ayesha_Age==schollage)"
   ]
  }
 ],
 "metadata": {
  "kernelspec": {
   "display_name": "Python 3 (ipykernel)",
   "language": "python",
   "name": "python3"
  },
  "language_info": {
   "codemirror_mode": {
    "name": "ipython",
    "version": 3
   },
   "file_extension": ".py",
   "mimetype": "text/x-python",
   "name": "python",
   "nbconvert_exporter": "python",
   "pygments_lexer": "ipython3",
   "version": "3.9.12"
  }
 },
 "nbformat": 4,
 "nbformat_minor": 5
}
